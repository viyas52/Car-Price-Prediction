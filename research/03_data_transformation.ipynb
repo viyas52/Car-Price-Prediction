{
 "cells": [
  {
   "cell_type": "code",
   "execution_count": 3,
   "metadata": {},
   "outputs": [
    {
     "data": {
      "text/plain": [
       "'d:\\\\My Workspace\\\\proj_file\\\\Car-Price-Prediction'"
      ]
     },
     "execution_count": 3,
     "metadata": {},
     "output_type": "execute_result"
    }
   ],
   "source": [
    "import os \n",
    "%pwd\n",
    "os.chdir(\"../\")\n",
    "%pwd"
   ]
  },
  {
   "cell_type": "code",
   "execution_count": 4,
   "metadata": {},
   "outputs": [],
   "source": [
    "from dataclasses import dataclass\n",
    "from pathlib import Path\n",
    "\n",
    "@dataclass(frozen=True)\n",
    "class DatatransformationConfig:\n",
    "    root_dir: Path\n",
    "    data_path: Path"
   ]
  },
  {
   "cell_type": "code",
   "execution_count": 5,
   "metadata": {},
   "outputs": [],
   "source": [
    "from car_price_pred.constants import *\n",
    "from car_price_pred.utils.common import read_yaml, create_directories"
   ]
  },
  {
   "cell_type": "code",
   "execution_count": 6,
   "metadata": {},
   "outputs": [],
   "source": [
    "class ConfigurationManager:\n",
    "    def __init__(\n",
    "        self,\n",
    "        config_filepath = CONFIG_FILE_PATH,\n",
    "        params_filepath = PARAMS_FILE_PATH,\n",
    "        schema_filepath = PARAMS_FILE_PATH):\n",
    "        \n",
    "        self.config = read_yaml(config_filepath)\n",
    "        self.params = read_yaml(params_filepath)\n",
    "        self.schema = read_yaml(schema_filepath)\n",
    "        \n",
    "        create_directories([self.config.artifacts_root])\n",
    "        \n",
    "        \n",
    "    def get_data_transformation_config(self) -> DatatransformationConfig:\n",
    "        \n",
    "        config = self.config.data_transformation\n",
    "        \n",
    "        create_directories([config.root_dir])\n",
    "        \n",
    "        \n",
    "        data_transformation_config = DatatransformationConfig(\n",
    "            root_dir= config.root_dir,\n",
    "            data_path=config.data_path,\n",
    "        )\n",
    "        \n",
    "        return data_transformation_config"
   ]
  },
  {
   "cell_type": "code",
   "execution_count": 7,
   "metadata": {},
   "outputs": [],
   "source": [
    "import os\n",
    "from car_price_pred import logger\n",
    "from sklearn.model_selection import train_test_split\n",
    "from sklearn.preprocessing import LabelEncoder\n",
    "import pandas as pd\n"
   ]
  },
  {
   "cell_type": "code",
   "execution_count": 13,
   "metadata": {},
   "outputs": [],
   "source": [
    "class DataTransformation:\n",
    "    def __init__(self, config: DatatransformationConfig):\n",
    "        self.config = config\n",
    "\n",
    "    def preprocessing(self):\n",
    "        df = pd.read_csv(self.config.data_path)\n",
    "        \n",
    "        df = df.dropna()\n",
    "        \n",
    "        df.drop_duplicates(inplace=True)\n",
    "        \n",
    "        encoder = LabelEncoder()\n",
    "        \n",
    "        df['Fuel_Type'] = encoder.fit_transform(df['Fuel_Type'])\n",
    "        df['Seller_Type'] = encoder.fit_transform(df['Seller_Type'])\n",
    "        df['Transmission'] = encoder.fit_transform(df['Transmission'])\n",
    "        df['Car_Name'] = encoder.fit_transform(df['Car_Name'])  \n",
    "        \n",
    "        train,test = train_test_split(df,random_state=42,test_size=0.2)\n",
    "        \n",
    "        train.to_csv(os.path.join(self.config.root_dir, \"train.csv\"),index = False)\n",
    "        test.to_csv(os.path.join(self.config.root_dir, \"test.csv\"),index = False)\n",
    "\n",
    "        logger.info(\"Splited data into training and test sets\")\n",
    "        logger.info(train.shape)\n",
    "        logger.info(test.shape)\n",
    "        logger.info(train.head())\n",
    "        logger.info(test.head())\n",
    "\n",
    "        print(train.shape)\n",
    "        print(test.shape)\n",
    "        print(train.head())\n",
    "        print(test.head())\n",
    "        \n",
    "        "
   ]
  },
  {
   "cell_type": "code",
   "execution_count": 14,
   "metadata": {},
   "outputs": [
    {
     "name": "stdout",
     "output_type": "stream",
     "text": [
      "[2024-06-17 00:29:19,367: INFO: common: yaml file: config\\config.yaml loaded successfully]\n",
      "[2024-06-17 00:29:19,370: INFO: common: yaml file: schema.yaml loaded successfully]\n",
      "[2024-06-17 00:29:19,373: INFO: common: yaml file: schema.yaml loaded successfully]\n",
      "[2024-06-17 00:29:19,374: INFO: common: created directory at: artifacts]\n",
      "[2024-06-17 00:29:19,375: INFO: common: created directory at: artifacts/data_transformation]\n",
      "[2024-06-17 00:29:19,573: INFO: 2886460921: Splited data into training and test sets]\n",
      "[2024-06-17 00:29:19,574: INFO: 2886460921: (239, 9)]\n",
      "[2024-06-17 00:29:19,574: INFO: 2886460921: (60, 9)]\n",
      "[2024-06-17 00:29:19,576: INFO: 2886460921:      Car_Name  Year  Selling_Price  Present_Price  Kms_Driven  Fuel_Type  \\\n",
      "6          68  2015           6.75           8.12       18796          2   \n",
      "185        50  2008           0.25           0.58        1900          2   \n",
      "187        36  2013           0.25           0.51       32000          2   \n",
      "148        15  2010           0.52           0.94       45000          2   \n",
      "31         90  2011           2.35           4.89       54200          2   \n",
      "\n",
      "     Seller_Type  Transmission  Owner  \n",
      "6              0             1      0  \n",
      "185            1             0      0  \n",
      "187            1             1      0  \n",
      "148            1             1      0  \n",
      "31             0             1      0  ]\n",
      "[2024-06-17 00:29:19,594: INFO: 2886460921:      Car_Name  Year  Selling_Price  Present_Price  Kms_Driven  Fuel_Type  \\\n",
      "283        69  2016           8.99          11.80        9010          2   \n",
      "267        69  2016           8.35           9.40       19434          1   \n",
      "166        25  2016           0.45           0.55        1000          2   \n",
      "9          68  2015           7.45           8.92       42367          1   \n",
      "78         71  2010           5.25          22.83       80000          2   \n",
      "\n",
      "     Seller_Type  Transmission  Owner  \n",
      "283            0             1      0  \n",
      "267            0             1      0  \n",
      "166            1             1      0  \n",
      "9              0             1      0  \n",
      "78             0             0      0  ]\n",
      "(239, 9)\n",
      "(60, 9)\n",
      "     Car_Name  Year  Selling_Price  Present_Price  Kms_Driven  Fuel_Type  \\\n",
      "6          68  2015           6.75           8.12       18796          2   \n",
      "185        50  2008           0.25           0.58        1900          2   \n",
      "187        36  2013           0.25           0.51       32000          2   \n",
      "148        15  2010           0.52           0.94       45000          2   \n",
      "31         90  2011           2.35           4.89       54200          2   \n",
      "\n",
      "     Seller_Type  Transmission  Owner  \n",
      "6              0             1      0  \n",
      "185            1             0      0  \n",
      "187            1             1      0  \n",
      "148            1             1      0  \n",
      "31             0             1      0  \n",
      "     Car_Name  Year  Selling_Price  Present_Price  Kms_Driven  Fuel_Type  \\\n",
      "283        69  2016           8.99          11.80        9010          2   \n",
      "267        69  2016           8.35           9.40       19434          1   \n",
      "166        25  2016           0.45           0.55        1000          2   \n",
      "9          68  2015           7.45           8.92       42367          1   \n",
      "78         71  2010           5.25          22.83       80000          2   \n",
      "\n",
      "     Seller_Type  Transmission  Owner  \n",
      "283            0             1      0  \n",
      "267            0             1      0  \n",
      "166            1             1      0  \n",
      "9              0             1      0  \n",
      "78             0             0      0  \n"
     ]
    }
   ],
   "source": [
    "try:\n",
    "    config = ConfigurationManager()\n",
    "    data_transformation_config = config.get_data_transformation_config()\n",
    "    data_transformation = DataTransformation(config=data_transformation_config)\n",
    "    data_transformation.preprocessing()\n",
    "except Exception as e:\n",
    "    raise e"
   ]
  },
  {
   "cell_type": "code",
   "execution_count": null,
   "metadata": {},
   "outputs": [],
   "source": []
  }
 ],
 "metadata": {
  "kernelspec": {
   "display_name": "cars",
   "language": "python",
   "name": "python3"
  },
  "language_info": {
   "codemirror_mode": {
    "name": "ipython",
    "version": 3
   },
   "file_extension": ".py",
   "mimetype": "text/x-python",
   "name": "python",
   "nbconvert_exporter": "python",
   "pygments_lexer": "ipython3",
   "version": "3.8.19"
  }
 },
 "nbformat": 4,
 "nbformat_minor": 2
}
